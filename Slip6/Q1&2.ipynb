{
 "cells": [
  {
   "cell_type": "code",
   "execution_count": null,
   "id": "a859eec8",
   "metadata": {},
   "outputs": [],
   "source": [
    "import nltk\n",
    "from nltk.corpus import stopwords\n",
    "\n",
    "nltk.download('stopwords')\n",
    "stop_words = set(stopwords.words('english'))\n",
    "text = \"This is a sample text with some stop words.\"\n",
    "filtered_text = [word for word in text.split() if word.lower() not in stop_words]\n",
    "print(\"Filtered text:\", \" \".join(filtered_text))\n"
   ]
  },
  {
   "cell_type": "code",
   "execution_count": null,
   "id": "b4b813cf",
   "metadata": {},
   "outputs": [],
   "source": [
    "from collections import deque\n",
    "\n",
    "def bfs(graph, start, goal):\n",
    "    \n",
    "    queue = deque([start])\n",
    "\n",
    "    visited = set()\n",
    "    \n",
    "    parent = {start: None}\n",
    "    \n",
    "    while queue:\n",
    "        \n",
    "        current = queue.popleft()\n",
    "        \n",
    "        \n",
    "        if current == goal:\n",
    "            \n",
    "            path = []\n",
    "            while current is not None:\n",
    "                path.append(current)\n",
    "                current = parent[current]\n",
    "            return path[::-1]\n",
    "        \n",
    "        \n",
    "        if current not in visited:\n",
    "            visited.add(current)\n",
    "            \n",
    "            for neighbor in graph[current]:\n",
    "                if neighbor not in visited and neighbor not in queue:\n",
    "                    queue.append(neighbor)\n",
    "                    parent[neighbor] = current\n",
    "    \n",
    "\n",
    "    return []\n",
    "\n",
    "\n",
    "graph = {\n",
    "    1: [2, 3],\n",
    "    2: [4, 5],\n",
    "    3: [4],\n",
    "    4: [5],\n",
    "    5: [6, 7],\n",
    "    6: [8],\n",
    "    7: [8],\n",
    "    8: []\n",
    "}\n",
    "\n",
    "\n",
    "start_node = 1\n",
    "goal_node = 8\n",
    "path = bfs(graph, start_node, goal_node)\n",
    "\n",
    "\n",
    "if path:\n",
    "    print(f\"Path from node {start_node} to node {goal_node}: {' -> '.join(map(str, path))}\")\n",
    "else:\n",
    "    print(f\"No path found from node {start_node} to node {goal_node}.\")\n"
   ]
  }
 ],
 "metadata": {
  "kernelspec": {
   "display_name": "Python 3 (ipykernel)",
   "language": "python",
   "name": "python3"
  },
  "language_info": {
   "codemirror_mode": {
    "name": "ipython",
    "version": 3
   },
   "file_extension": ".py",
   "mimetype": "text/x-python",
   "name": "python",
   "nbconvert_exporter": "python",
   "pygments_lexer": "ipython3",
   "version": "3.9.13"
  }
 },
 "nbformat": 4,
 "nbformat_minor": 5
}
