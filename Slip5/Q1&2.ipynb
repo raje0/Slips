{
 "cells": [
  {
   "cell_type": "code",
   "execution_count": null,
   "id": "1493c868",
   "metadata": {},
   "outputs": [],
   "source": [
    "import nltk\n",
    "from nltk.stem import WordNetLemmatizer\n",
    "\n",
    "nltk.download('wordnet')\n",
    "nltk.download('omw-1.4')\n",
    "lemmatizer = WordNetLemmatizer()\n",
    "words = [\"running\", \"ran\", \"runs\", \"easily\", \"fairly\"]\n",
    "lemmatized_words = [lemmatizer.lemmatize(word) for word in words]\n",
    "print(\"Lemmatized words:\", lemmatized_words)\n"
   ]
  },
  {
   "cell_type": "code",
   "execution_count": null,
   "id": "a3319fc8",
   "metadata": {},
   "outputs": [],
   "source": [
    "from collections import deque\n",
    "\n",
    "def bfs(graph, start, goal):\n",
    "    \n",
    "    queue = deque([start])\n",
    "    \n",
    "    visited = set()\n",
    "    \n",
    "    parent = {start: None}\n",
    "    \n",
    "    while queue:\n",
    "        \n",
    "        current = queue.popleft()\n",
    "        \n",
    "    \n",
    "        if current == goal:\n",
    "            \n",
    "            path = []\n",
    "            while current is not None:\n",
    "                path.append(current)\n",
    "                current = parent[current]\n",
    "            return path[::-1]\n",
    "        \n",
    "    \n",
    "        if current not in visited:\n",
    "            visited.add(current)\n",
    "            \n",
    "            for neighbor in graph[current]:\n",
    "                if neighbor not in visited:\n",
    "                    queue.append(neighbor)\n",
    "                    parent[neighbor] = current\n",
    "    \n",
    "    \n",
    "    return []\n",
    "\n",
    "\n",
    "graph = {\n",
    "    1: [2, 4],\n",
    "    2: [3],\n",
    "    3: [4, 5, 6],\n",
    "    4: [2],\n",
    "    5: [7, 8],\n",
    "    6: [8],\n",
    "    7: [8],\n",
    "    8: []\n",
    "}\n",
    "\n",
    "\n",
    "start_node = 1\n",
    "goal_node = 8\n",
    "path = bfs(graph, start_node, goal_node)\n",
    "\n",
    "\n",
    "if path:\n",
    "    print(f\"Path from node {start_node} to node {goal_node}: {' -> '.join(map(str, path))}\")\n",
    "else:\n",
    "    print(f\"No path found from node {start_node} to node {goal_node}.\")\n"
   ]
  }
 ],
 "metadata": {
  "kernelspec": {
   "display_name": "Python 3 (ipykernel)",
   "language": "python",
   "name": "python3"
  },
  "language_info": {
   "codemirror_mode": {
    "name": "ipython",
    "version": 3
   },
   "file_extension": ".py",
   "mimetype": "text/x-python",
   "name": "python",
   "nbconvert_exporter": "python",
   "pygments_lexer": "ipython3",
   "version": "3.9.13"
  }
 },
 "nbformat": 4,
 "nbformat_minor": 5
}
