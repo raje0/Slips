{
 "cells": [
  {
   "cell_type": "code",
   "execution_count": null,
   "id": "3f1854b4",
   "metadata": {},
   "outputs": [],
   "source": [
    "def sort_sentence(sentence):\n",
    "    \n",
    "    words = sentence.split()\n",
    "    \n",
    "    words.sort()\n",
    "    \n",
    "    sorted_sentence = ' '.join(words)\n",
    "    \n",
    "    return sorted_sentence\n",
    "\n",
    "sentence = input(\"Enter a sentence: \")\n",
    "sorted_sentence = sort_sentence(sentence)\n",
    "print(\"Sorted sentence:\", sorted_sentence)\n"
   ]
  },
  {
   "cell_type": "code",
   "execution_count": null,
   "id": "70b50897",
   "metadata": {},
   "outputs": [],
   "source": [
    "def is_safe(board, row, col, n):\n",
    "    for i in range(col):\n",
    "        if board[row][i] == 1:\n",
    "            return False\n",
    "\n",
    "    for i, j in zip(range(row, -1, -1), range(col, -1, -1)):\n",
    "        if board[i][j] == 1:\n",
    "            return False\n",
    "\n",
    "    for i, j in zip(range(row, n), range(col, -1, -1)):\n",
    "        if board[i][j] == 1:\n",
    "            return False\n",
    "\n",
    "    return True\n",
    "\n",
    "def solve_n_queens_util(board, col, n, solutions):\n",
    "    if col >= n:\n",
    "        solutions.append([row[:] for row in board])\n",
    "        return\n",
    "\n",
    "    for i in range(n):\n",
    "        if is_safe(board, i, col, n):\n",
    "            board[i][col] = 1  \n",
    "            solve_n_queens_util(board, col + 1, n, solutions)\n",
    "            board[i][col] = 0  \n",
    "\n",
    "def solve_n_queens(n):\n",
    "    board = [[0 for _ in range(n)] for _ in range(n)]\n",
    "    solutions = []\n",
    "    solve_n_queens_util(board, 0, n, solutions)\n",
    "    return solutions\n",
    "\n",
    "def print_solutions(solutions):\n",
    "    for index, solution in enumerate(solutions):\n",
    "        print(f\"Solution {index + 1}:\")\n",
    "        for row in solution:\n",
    "            print(\" \".join(\"Q\" if x == 1 else \".\" for x in row))\n",
    "        print()\n",
    "\n",
    "n = int(input(\"Enter the value of N (for N-Queens problem): \"))\n",
    "solutions = solve_n_queens(n)\n",
    "print(f\"Total solutions for {n}-Queens problem: {len(solutions)}\")\n",
    "print_solutions(solutions)\n"
   ]
  }
 ],
 "metadata": {
  "kernelspec": {
   "display_name": "Python 3 (ipykernel)",
   "language": "python",
   "name": "python3"
  },
  "language_info": {
   "codemirror_mode": {
    "name": "ipython",
    "version": 3
   },
   "file_extension": ".py",
   "mimetype": "text/x-python",
   "name": "python",
   "nbconvert_exporter": "python",
   "pygments_lexer": "ipython3",
   "version": "3.9.13"
  }
 },
 "nbformat": 4,
 "nbformat_minor": 5
}
