{
 "cells": [
  {
   "cell_type": "code",
   "execution_count": 1,
   "id": "250b82d7",
   "metadata": {},
   "outputs": [],
   "source": [
    "#Q1"
   ]
  },
  {
   "cell_type": "code",
   "execution_count": null,
   "id": "ea972219",
   "metadata": {},
   "outputs": [],
   "source": [
    "import string\n",
    "\n",
    "text = \"Hello, world! This is a test.\"\n",
    "clean_text = text.translate(str.maketrans('', '', string.punctuation))\n",
    "print(\"Text without punctuation:\", clean_text)\n"
   ]
  },
  {
   "cell_type": "code",
   "execution_count": 2,
   "id": "e570c233",
   "metadata": {},
   "outputs": [],
   "source": [
    "#Q2"
   ]
  },
  {
   "cell_type": "code",
   "execution_count": null,
   "id": "afbbb1b6",
   "metadata": {},
   "outputs": [],
   "source": [
    "\n",
    "graph = {\n",
    "    1: [2, 3],\n",
    "    2: [1, 4, 5],\n",
    "    3: [1],\n",
    "    4: [2, 5],\n",
    "    5: [2, 4, 6, 7],\n",
    "    6: [5],\n",
    "    7: [5]\n",
    "}\n",
    "\n",
    "\n",
    "def dfs(graph, start, goal, visited=None):\n",
    "    if visited is None:\n",
    "        visited = set()  \n",
    "    \n",
    "    visited.add(start)  \n",
    "    print(f\"Visited: {start}\")\n",
    "\n",
    "    \n",
    "    if start == goal:\n",
    "        print(\"Goal node found!\")\n",
    "        return True\n",
    "    \n",
    "    \n",
    "    for neighbor in graph[start]:\n",
    "        if neighbor not in visited:\n",
    "            if dfs(graph, neighbor, goal, visited):  \n",
    "                return True\n",
    "    \n",
    "    return False  \n",
    "\n",
    "\n",
    "start_node = 2\n",
    "goal_node = 7\n",
    "print(\"Depth First Search path:\")\n",
    "dfs(graph, start_node, goal_node)\n"
   ]
  }
 ],
 "metadata": {
  "kernelspec": {
   "display_name": "Python 3 (ipykernel)",
   "language": "python",
   "name": "python3"
  },
  "language_info": {
   "codemirror_mode": {
    "name": "ipython",
    "version": 3
   },
   "file_extension": ".py",
   "mimetype": "text/x-python",
   "name": "python",
   "nbconvert_exporter": "python",
   "pygments_lexer": "ipython3",
   "version": "3.9.13"
  }
 },
 "nbformat": 4,
 "nbformat_minor": 5
}
