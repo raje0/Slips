{
 "cells": [
  {
   "cell_type": "code",
   "execution_count": null,
   "id": "a4d5e179",
   "metadata": {},
   "outputs": [],
   "source": [
    "import string\n",
    "\n",
    "def remove_punctuation(input_string):\n",
    "\n",
    "    translation_table = str.maketrans('', '', string.punctuation)\n",
    "\n",
    "    return input_string.translate(translation_table)\n",
    "\n",
    "if __name__ == \"__main__\":\n",
    "    input_string = input(\"Enter a string: \")\n",
    "    result = remove_punctuation(input_string)\n",
    "    print(\"String after removing punctuation:\", result)\n"
   ]
  },
  {
   "cell_type": "code",
   "execution_count": null,
   "id": "006e028f",
   "metadata": {},
   "outputs": [],
   "source": [
    "from itertools import permutations\n",
    "\n",
    "\n",
    "def solve_cryptarithmetic():\n",
    "    # Letters involved\n",
    "    letters = 'GOTUN'\n",
    "    for perm in permutations(range(10), 5):\n",
    "        G, O, T, U, N = perm\n",
    "        \n",
    "        GO = G * 10 + O\n",
    "        TO = T * 10 + O\n",
    "        OUT = 100 * O + 10 * U + T\n",
    "        \n",
    "        if GO + TO == OUT:\n",
    "            print(f\"Solution found: G={G}, O={O}, T={T}, U={U}, N={N}\")\n",
    "            print(f\"GO = {GO}, TO = {TO}, OUT = {OUT}\")\n",
    "            return\n",
    "    \n",
    "    print(\"No solution found.\")\n",
    "solve_cryptarithmetic()\n"
   ]
  }
 ],
 "metadata": {
  "kernelspec": {
   "display_name": "Python 3 (ipykernel)",
   "language": "python",
   "name": "python3"
  },
  "language_info": {
   "codemirror_mode": {
    "name": "ipython",
    "version": 3
   },
   "file_extension": ".py",
   "mimetype": "text/x-python",
   "name": "python",
   "nbconvert_exporter": "python",
   "pygments_lexer": "ipython3",
   "version": "3.9.13"
  }
 },
 "nbformat": 4,
 "nbformat_minor": 5
}
