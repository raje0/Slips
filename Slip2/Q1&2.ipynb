{
 "cells": [
  {
   "cell_type": "code",
   "execution_count": 1,
   "id": "027b3eb0",
   "metadata": {},
   "outputs": [],
   "source": [
    "#Q1"
   ]
  },
  {
   "cell_type": "code",
   "execution_count": null,
   "id": "3c4a054c",
   "metadata": {},
   "outputs": [],
   "source": [
    "import calendar\n",
    "\n",
    "year = int(input(\"Enter year: \"))\n",
    "month = int(input(\"Enter month: \"))\n",
    "print(calendar.month(year, month))\n"
   ]
  },
  {
   "cell_type": "code",
   "execution_count": 2,
   "id": "d846d650",
   "metadata": {},
   "outputs": [],
   "source": [
    "#Q2\n"
   ]
  },
  {
   "cell_type": "code",
   "execution_count": null,
   "id": "1798d8da",
   "metadata": {},
   "outputs": [],
   "source": [
    "\n",
    "graph = {\n",
    "    1: [2, 3],\n",
    "    2: [4],\n",
    "    3: [2],\n",
    "    4: [5, 6],\n",
    "    5: [3, 7],\n",
    "    6: [],\n",
    "    7: [6]\n",
    "}\n",
    "\n",
    "def dfs(graph, start, goal, visited=None):\n",
    "    if visited is None:\n",
    "        visited = set()  \n",
    "    \n",
    "    visited.add(start) \n",
    "    print(f\"Visited: {start}\")\n",
    "    \n",
    "\n",
    "    if start == goal:\n",
    "        print(\"Goal node found!\")\n",
    "        return True\n",
    "\n",
    "    for neighbor in graph[start]:\n",
    "        if neighbor not in visited:\n",
    "            if dfs(graph, neighbor, goal, visited):  \n",
    "                return True\n",
    "    \n",
    "    return False  \n",
    "\n",
    "\n",
    "start_node = 1\n",
    "goal_node = 7\n",
    "print(\"Depth First Search path:\")\n",
    "dfs(graph, start_node, goal_node)\n"
   ]
  }
 ],
 "metadata": {
  "kernelspec": {
   "display_name": "Python 3 (ipykernel)",
   "language": "python",
   "name": "python3"
  },
  "language_info": {
   "codemirror_mode": {
    "name": "ipython",
    "version": 3
   },
   "file_extension": ".py",
   "mimetype": "text/x-python",
   "name": "python",
   "nbconvert_exporter": "python",
   "pygments_lexer": "ipython3",
   "version": "3.9.13"
  }
 },
 "nbformat": 4,
 "nbformat_minor": 5
}
