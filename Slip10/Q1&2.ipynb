{
 "cells": [
  {
   "cell_type": "code",
   "execution_count": null,
   "id": "031d4a51",
   "metadata": {},
   "outputs": [],
   "source": [
    "from itertools import permutations\n",
    "\n",
    "\n",
    "def solve_cryptarithmetic():\n",
    "    letters = 'TWOFRU'\n",
    "\n",
    "    for perm in permutations(range(10), len(letters)):\n",
    "        mapping = dict(zip(letters, perm))\n",
    "\n",
    "    \n",
    "        if mapping['T'] == 0 or mapping['F'] == 0:\n",
    "            continue\n",
    "\n",
    "        TWO = mapping['T'] * 100 + mapping['W'] * 10 + mapping['O']\n",
    "        FOUR = mapping['F'] * 1000 + mapping['O'] * 100 + mapping['U'] * 10 + mapping['R']\n",
    "\n",
    "        if TWO + TWO == FOUR:\n",
    "            print(f\"Solution found:\")\n",
    "            print(f\"TWO = {TWO}\")\n",
    "            print(f\"FOUR = {FOUR}\")\n",
    "            print(f\"Mapping: {mapping}\")\n",
    "            return\n",
    "\n",
    "    print(\"No solution found.\")\n",
    "\n",
    "solve_cryptarithmetic()\n"
   ]
  },
  {
   "cell_type": "code",
   "execution_count": null,
   "id": "0f18be0e",
   "metadata": {},
   "outputs": [],
   "source": [
    "import random\n",
    "\n",
    "class SimpleChatbot:\n",
    "    def __init__(self):\n",
    "        self.greetings = [\"Hello!\", \"Hi there!\", \"Greetings!\", \"How can I help you?\"]\n",
    "        self.farewells = [\"Goodbye!\", \"See you later!\", \"Take care!\"]\n",
    "        self.responses = {\n",
    "            \"how are you\": [\"I'm just a program, but thanks for asking!\", \"Doing well, how about you?\"],\n",
    "            \"what is your name\": [\"I'm a simple chatbot.\", \"You can call me Chatbot!\"],\n",
    "            \"help\": [\"I'm here to help you! What do you need?\", \"How can I assist you?\"],\n",
    "            \"what can you do\": [\"I can chat with you!\", \"I can answer simple questions!\"]\n",
    "        }\n",
    "\n",
    "    def greet(self):\n",
    "        return random.choice(self.greetings)\n",
    "\n",
    "    def farewell(self):\n",
    "        return random.choice(self.farewells)\n",
    "\n",
    "    def get_response(self, user_input):\n",
    "        user_input = user_input.lower()\n",
    "        for key in self.responses:\n",
    "            if key in user_input:\n",
    "                return random.choice(self.responses[key])\n",
    "        return \"I'm sorry, I don't understand that.\"\n",
    "\n",
    "def main():\n",
    "    chatbot = SimpleChatbot()\n",
    "    print(chatbot.greet())\n",
    "    while True:\n",
    "        user_input = input(\"You: \")\n",
    "        if user_input.lower() in [\"exit\", \"quit\", \"bye\"]:\n",
    "            print(chatbot.farewell())\n",
    "            break\n",
    "        response = chatbot.get_response(user_input)\n",
    "        print(\"Chatbot:\", response)\n",
    "\n",
    "if __name__ == \"__main__\":\n",
    "    main()"
   ]
  }
 ],
 "metadata": {
  "kernelspec": {
   "display_name": "Python 3 (ipykernel)",
   "language": "python",
   "name": "python3"
  },
  "language_info": {
   "codemirror_mode": {
    "name": "ipython",
    "version": 3
   },
   "file_extension": ".py",
   "mimetype": "text/x-python",
   "name": "python",
   "nbconvert_exporter": "python",
   "pygments_lexer": "ipython3",
   "version": "3.9.13"
  }
 },
 "nbformat": 4,
 "nbformat_minor": 5
}
