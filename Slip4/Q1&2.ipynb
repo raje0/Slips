{
 "cells": [
  {
   "cell_type": "code",
   "execution_count": null,
   "id": "e2f57689",
   "metadata": {},
   "outputs": [
    {
     "name": "stdout",
     "output_type": "stream",
     "text": [
      "------\n"
     ]
    }
   ],
   "source": [
    "#Q1\n",
    "import random\n",
    "\n",
    "words = [\"python\", \"java\", \"kotlin\", \"javascript\"]\n",
    "word = random.choice(words)\n",
    "guesses = set()\n",
    "attempts = 7\n",
    "\n",
    "while attempts > 0:\n",
    "    display_word = \"\".join([letter if letter in guesses else \"-\" for letter in word])\n",
    "    print(display_word)\n",
    "    guess = input(\"Guess a letter: \")\n",
    "    if guess in word:\n",
    "        guesses.add(guess)\n",
    "        if set(word) == guesses:\n",
    "            print(\"You guessed the word!\", word)\n",
    "            break\n",
    "    else:\n",
    "        attempts -= 1\n",
    "        print(f\"Wrong! {attempts} attempts left.\")\n",
    "else:\n",
    "    print(\"Game Over. The word was:\", word)\n"
   ]
  },
  {
   "cell_type": "code",
   "execution_count": null,
   "id": "df3f82ab",
   "metadata": {},
   "outputs": [],
   "source": [
    "from collections import deque, defaultdict\n",
    "\n",
    "\n",
    "graph = defaultdict(list)\n",
    "graph[1] = [2, 3]\n",
    "graph[2] = [1, 4, 5]\n",
    "graph[3] = [1, 6, 7]\n",
    "graph[4] = [2, 8]\n",
    "graph[5] = [2, 8]\n",
    "graph[6] = [3, 8]\n",
    "graph[7] = [3, 8]\n",
    "graph[8] = [4, 5, 6, 7]\n",
    "\n",
    "def bfs(graph, start, goal):\n",
    "    visited = set()\n",
    "    queue = deque([[start]])\n",
    "\n",
    "    while queue:\n",
    "        path = queue.popleft()\n",
    "        node = path[-1]\n",
    "\n",
    "        if node == goal:\n",
    "            return path\n",
    "\n",
    "        elif node not in visited:\n",
    "            visited.add(node)\n",
    "            for neighbor in graph[node]:\n",
    "                new_path = list(path)\n",
    "                new_path.append(neighbor)\n",
    "                queue.append(new_path)\n",
    "\n",
    "    return None\n",
    "\n",
    "\n",
    "start_node = 1\n",
    "goal_node = 8\n",
    "path = bfs(graph, start_node, goal_node)\n",
    "\n",
    "if path:\n",
    "    print(\"BFS Path:\", path)\n",
    "else:\n",
    "    print(\"No path found\")\n"
   ]
  },
  {
   "cell_type": "code",
   "execution_count": null,
   "id": "77f34b73",
   "metadata": {},
   "outputs": [],
   "source": []
  }
 ],
 "metadata": {
  "kernelspec": {
   "display_name": "Python 3 (ipykernel)",
   "language": "python",
   "name": "python3"
  },
  "language_info": {
   "codemirror_mode": {
    "name": "ipython",
    "version": 3
   },
   "file_extension": ".py",
   "mimetype": "text/x-python",
   "name": "python",
   "nbconvert_exporter": "python",
   "pygments_lexer": "ipython3",
   "version": "3.9.13"
  }
 },
 "nbformat": 4,
 "nbformat_minor": 5
}
