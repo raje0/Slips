{
 "cells": [
  {
   "cell_type": "code",
   "execution_count": 5,
   "id": "ad0c0a3b",
   "metadata": {},
   "outputs": [],
   "source": [
    "#Q1"
   ]
  },
  {
   "cell_type": "code",
   "execution_count": 6,
   "id": "5d3aa71b",
   "metadata": {},
   "outputs": [
    {
     "name": "stdout",
     "output_type": "stream",
     "text": [
      "Maximum at x = 2.0000000000000013, f(x) = 4.0\n"
     ]
    }
   ],
   "source": [
    "def hill_climbing(f, x_start, step_size=0.01, max_iter=1000):\n",
    "    x = x_start\n",
    "    for _ in range(max_iter):\n",
    "        new_x = x + step_size\n",
    "        if f(new_x) <= f(x):  # stop if no improvement\n",
    "            break\n",
    "        x = new_x\n",
    "    return x, f(x)\n",
    "\n",
    "f = lambda x: -x**2 + 4*x\n",
    "x_max, y_max = hill_climbing(f, x_start=0)\n",
    "print(f\"Maximum at x = {x_max}, f(x) = {y_max}\")\n"
   ]
  },
  {
   "cell_type": "code",
   "execution_count": 3,
   "id": "f5f8a551",
   "metadata": {},
   "outputs": [],
   "source": [
    "#Q2"
   ]
  },
  {
   "cell_type": "code",
   "execution_count": 4,
   "id": "c54935c5",
   "metadata": {},
   "outputs": [
    {
     "name": "stdout",
     "output_type": "stream",
     "text": [
      "DFS Path:\n",
      "1 2 4 8 "
     ]
    },
    {
     "data": {
      "text/plain": [
       "True"
      ]
     },
     "execution_count": 4,
     "metadata": {},
     "output_type": "execute_result"
    }
   ],
   "source": [
    "from collections import defaultdict\n",
    "\n",
    "graph = defaultdict(list)\n",
    "graph[1] = [2, 3]\n",
    "graph[2] = [4, 5]\n",
    "graph[3] = [6, 7]\n",
    "graph[4] = [8]\n",
    "graph[5] = [8]\n",
    "graph[6] = [8]\n",
    "graph[7] = [8]\n",
    "graph[8] = []\n",
    "\n",
    "def dfs(graph, start, goal, visited=None):\n",
    "    if visited is None:\n",
    "        visited = set()\n",
    "    visited.add(start)\n",
    "    print(start, end=\" \")\n",
    "    if start == goal:\n",
    "        return True\n",
    "    for neighbor in graph[start]:\n",
    "        if neighbor not in visited:\n",
    "            if dfs(graph, neighbor, goal, visited):\n",
    "                return True\n",
    "    return False\n",
    "\n",
    "print(\"DFS Path:\")\n",
    "dfs(graph, 1, 8)\n",
    "\n"
   ]
  },
  {
   "cell_type": "code",
   "execution_count": null,
   "id": "b0e066f5",
   "metadata": {},
   "outputs": [],
   "source": []
  }
 ],
 "metadata": {
  "kernelspec": {
   "display_name": "Python 3 (ipykernel)",
   "language": "python",
   "name": "python3"
  },
  "language_info": {
   "codemirror_mode": {
    "name": "ipython",
    "version": 3
   },
   "file_extension": ".py",
   "mimetype": "text/x-python",
   "name": "python",
   "nbconvert_exporter": "python",
   "pygments_lexer": "ipython3",
   "version": "3.9.13"
  }
 },
 "nbformat": 4,
 "nbformat_minor": 5
}
