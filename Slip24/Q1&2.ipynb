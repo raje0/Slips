{
 "cells": [
  {
   "cell_type": "code",
   "execution_count": null,
   "id": "3fefb923",
   "metadata": {},
   "outputs": [],
   "source": [
    "\n",
    "def sort_sentence(sentence):\n",
    "    words = sentence.split()\n",
    "    words.sort()\n",
    "    return ' '.join(words)\n",
    "if __name__ == \"__main__\":\n",
    "    sentence = input(\"Enter a sentence: \")\n",
    "    sorted_sentence = sort_sentence(sentence)\n",
    "    print(\"Sorted sentence:\", sorted_sentence)\n"
   ]
  },
  {
   "cell_type": "code",
   "execution_count": null,
   "id": "43eeef47",
   "metadata": {},
   "outputs": [],
   "source": [
    "from itertools import permutations\n",
    "\n",
    "\n",
    "def solve_cryptarithmetic():\n",
    "    letters = 'CROSSROADSDANGER'\n",
    "    for perm in permutations(range(10), len(set(letters))):\n",
    "        \n",
    "        C, R, O, S, A, D, N, G, E = perm\n",
    "\n",
    "        CROSS = 10000*C + 1000*R + 100*O + 10*S + S\n",
    "        ROADS = 10000*R + 1000*O + 100*A + 10*D + S\n",
    "        DANGER = 100000*D + 10000*A + 1000*N + 100*G + 10*E + R\n",
    "        if CROSS + ROADS == DANGER:\n",
    "            print(f\"Solution found: C={C}, R={R}, O={O}, S={S}, A={A}, D={D}, N={N}, G={G}, E={E}\")\n",
    "            print(f\"CROSS = {CROSS}, ROADS = {ROADS}, DANGER = {DANGER}\")\n",
    "            return\n",
    "    \n",
    "    print(\"No solution found.\")\n",
    "\n",
    "solve_cryptarithmetic()\n"
   ]
  }
 ],
 "metadata": {
  "kernelspec": {
   "display_name": "Python 3 (ipykernel)",
   "language": "python",
   "name": "python3"
  },
  "language_info": {
   "codemirror_mode": {
    "name": "ipython",
    "version": 3
   },
   "file_extension": ".py",
   "mimetype": "text/x-python",
   "name": "python",
   "nbconvert_exporter": "python",
   "pygments_lexer": "ipython3",
   "version": "3.9.13"
  }
 },
 "nbformat": 4,
 "nbformat_minor": 5
}
