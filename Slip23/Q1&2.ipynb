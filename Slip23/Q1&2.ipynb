{
 "cells": [
  {
   "cell_type": "code",
   "execution_count": null,
   "id": "0c1cdcac",
   "metadata": {},
   "outputs": [],
   "source": [
    "\n",
    "def tower_of_hanoi(n, source, target, auxiliary):\n",
    "    if n == 1:\n",
    "        print(f\"Move disk 1 from {source} to {target}\")\n",
    "        return\n",
    "\n",
    "    tower_of_hanoi(n - 1, source, auxiliary, target)\n",
    "    \n",
    "\n",
    "    print(f\"Move disk {n} from {source} to {target}\")\n",
    "    \n",
    "\n",
    "    tower_of_hanoi(n - 1, auxiliary, target, source)\n",
    "\n",
    "\n",
    "if __name__ == \"__main__\":\n",
    "    n = int(input(\"Enter the number of disks: \")) \n",
    "    tower_of_hanoi(n, 'A', 'C', 'B') \n"
   ]
  },
  {
   "cell_type": "code",
   "execution_count": null,
   "id": "633c1049",
   "metadata": {},
   "outputs": [],
   "source": [
    "from itertools import permutations\n",
    "\n",
    "def solve_cryptarithmetic():\n",
    "\n",
    "    letters = 'SENDMORE'\n",
    "    \n",
    "    \n",
    "    for perm in permutations(range(10), len(letters)):\n",
    "        S, E, N, D, M, O, R, Y = perm\n",
    "        \n",
    "        \n",
    "        SEND = 1000*S + 100*E + 10*N + D\n",
    "        MORE = 1000*M + 100*O + 10*R + E\n",
    "        MONEY = 10000*M + 1000*O + 100*N + 10*E + Y\n",
    "        \n",
    "       \n",
    "        if SEND + MORE == MONEY:\n",
    "            print(f\"Solution found: S={S}, E={E}, N={N}, D={D}, M={M}, O={O}, R={R}, Y={Y}\")\n",
    "            print(f\"SEND = {SEND}, MORE = {MORE}, MONEY = {MONEY}\")\n",
    "            return\n",
    "    \n",
    "    print(\"No solution found.\")\n",
    "\n",
    "solve_cryptarithmetic()\n"
   ]
  }
 ],
 "metadata": {
  "kernelspec": {
   "display_name": "Python 3 (ipykernel)",
   "language": "python",
   "name": "python3"
  },
  "language_info": {
   "codemirror_mode": {
    "name": "ipython",
    "version": 3
   },
   "file_extension": ".py",
   "mimetype": "text/x-python",
   "name": "python",
   "nbconvert_exporter": "python",
   "pygments_lexer": "ipython3",
   "version": "3.9.13"
  }
 },
 "nbformat": 4,
 "nbformat_minor": 5
}
